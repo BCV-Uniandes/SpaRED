{
 "cells": [
  {
   "cell_type": "markdown",
   "metadata": {},
   "source": [
    "## SpaRED Library Processing DEMO\n",
    "\n",
    "In this tutorial, we will explore the data processing functions available in the SpaRED library, focusing on three key areas:\n",
    "\n",
    "* Gene Features\n",
    "* Filtering\n",
    "* Layer Operations\n",
    "* Denoising\n",
    "\n",
    "These processing functions are essential for preparing and refining spatial transcriptomics data, ensuring that it is ready for accurate and efficient analysis. This demonstration will showcase the preprocessing steps used in our paper, providing a detailed look at how to clean your data, extract meaningful features, and perform various operations on data layers.\n"
   ]
  },
  {
   "cell_type": "code",
   "execution_count": null,
   "metadata": {},
   "outputs": [],
   "source": [
    "import matplotlib.pyplot as plt\n",
    "import matplotlib.image as im\n",
    "import os\n",
    "import sys\n",
    "from pathlib import Path\n",
    "\n",
    "currentdir = os.getcwd()\n",
    "parentdir = str(Path(currentdir).parents[2])\n",
    "sys.path.insert(0, parentdir)\n",
    "print(parentdir)\n",
    "\n",
    "import spared"
   ]
  },
  {
   "cell_type": "markdown",
   "metadata": {},
   "source": [
    "### Load Datasets\n",
    "\n",
    "The `datasets` file has a function to get any desired dataset and return the adata as well as the parameter dictionary. This function returns a filtered and processed adata. This function has a parameter called *visualize* that allows for all visualizations if set to True. The fuction also saves the raw_adata (not processed) in case it is required. \n",
    "\n",
    "We will begin by loading a dataset and setting the *visualize* parameter as False since no images are required for the functions analized in this DEMO."
   ]
  },
  {
   "cell_type": "code",
   "execution_count": null,
   "metadata": {},
   "outputs": [],
   "source": [
    "from spared.datasets import get_dataset\n",
    "import anndata as ad\n",
    "\n",
    "#get dataset\n",
    "data = get_dataset(\"vicari_mouse_brain\", visualize=False)\n",
    "\n",
    "#adata\n",
    "adata = data.adata\n",
    "\n",
    "#parameters dictionary\n",
    "param_dict = data.param_dict\n",
    "\n",
    "#loading raw adata \n",
    "dataset_path = os.getcwd()\n",
    "files_path = os.path.join(dataset_path, \"processed_data/vicari_data/vicari_mouse_brain/\")\n",
    "files = os.listdir(files_path)\n",
    "adata_path = os.path.join(files_path, files[0], \"adata_raw.h5ad\")\n",
    "raw_adata = ad.read_h5ad(adata_path)"
   ]
  },
  {
   "cell_type": "markdown",
   "metadata": {},
   "source": [
    "### Gene features functions\n",
    "\n",
    "In this section, we will explore the gene features functions available in the SpaRED library. These functions provide the tools to compute the relative and global expression fractions for all genes as well as the Moran's I genes for an adata.  These calculations provide insights into gene expression patterns and their spatial distribution and are also used in the pre-processing steps. \n",
    "\n",
    "Lets begin with `get_exp_frac`. This function receives as input:\n",
    "\n",
    "* **adata (ad.AnnData):** adata collection where non-expressed genes have a value of `0` in the `adata.X` matrix\n",
    "\n",
    "And returns an uptades adata with the expression fraction information added into the `adata.var['exp_frac']` column. The expression fraction of a gene in a slide is defined as the proportion of spots where that gene is expressed. "
   ]
  },
  {
   "cell_type": "code",
   "execution_count": null,
   "metadata": {},
   "outputs": [],
   "source": [
    "from spared.gene_features import get_exp_frac\n",
    "\n",
    "adata_exp = get_exp_frac(raw_adata)"
   ]
  },
  {
   "cell_type": "markdown",
   "metadata": {},
   "source": [
    "`get_exp_frac` receives as input:\n",
    "\n",
    "* **adata (ad.AnnData):** adata collection where non-expressed genes have a value of `0` in the `adata.X` matrix\n",
    "\n",
    "And returns an uptades adata with the expression fraction information added into the `adata.var['glob_exp_frac']` column. The global expression fraction of a gene in a dataset is defined as the proportion of spots where that gene is expressed. Its difference with the expression fraction is that the global expression fraction is computed for the whole dataset and not for each slide."
   ]
  },
  {
   "cell_type": "code",
   "execution_count": null,
   "metadata": {},
   "outputs": [],
   "source": [
    "from spared.gene_features import get_glob_exp_frac\n",
    "\n",
    "adata_exp = get_glob_exp_frac(raw_adata)"
   ]
  },
  {
   "cell_type": "markdown",
   "metadata": {},
   "source": [
    "`compute_moran`receives as input:\n",
    "\n",
    "* **adata (ad.AnnData):** adata object to update. Must have expression values in `adata.layers[from_layer]`.\n",
    "* **from_layer (str):** key in adata.layers with the values used to compute Moran's I\n",
    "* **hex_geometry (bool):** whether the geometry is hexagonal or not\n",
    "\n",
    "And returns the updated adata with the average Moran's I for each gene in the `adata.var[f'{from_layer}_moran']` column."
   ]
  },
  {
   "cell_type": "code",
   "execution_count": null,
   "metadata": {},
   "outputs": [],
   "source": [
    "from spared.gene_features import compute_moran\n",
    "\n",
    "adata_moran = compute_moran(adata=adata, from_layer=\"c_d_log1p\", hex_geometry=param_dict[\"hex_geometry\"])"
   ]
  },
  {
   "cell_type": "markdown",
   "metadata": {},
   "source": [
    "### Filtering functions\n",
    "\n",
    "In this section, we will explore the filtering functions available in the SpaRED library. These functions are designed to refine your spatial transcriptomics data by filtering it based on specific criteria. Specifically, we will demonstrate how to filter AnnData objects (adata) by Moran's I genes, using the parameters defined in `param_dict` and based on specific slides.\n",
    "\n",
    "Lets begin with `filter_by_moran`. This function receives as input:\n",
    "* **adata (ad.AnnData):** adata object to uptade. The adata must contain an `adata.var[f'{from_layer}_moran']` column\n",
    "* **n_keep (int):** The number of genes to keep in the filtering process\n",
    "* **from_layer (str):** the layer for which the Moran's I was previously computed.\n",
    "\n",
    "And returns and updated adata with the filtered genes."
   ]
  },
  {
   "cell_type": "code",
   "execution_count": null,
   "metadata": {},
   "outputs": [],
   "source": [
    "from spared.filtering import filter_by_moran\n",
    "\n",
    "adata_moran = filter_by_moran(adata, n_keep=param_dict['top_moran_genes'], from_layer='d_log1p')"
   ]
  },
  {
   "cell_type": "markdown",
   "metadata": {},
   "source": [
    "`filter_dataser` receives as input:\n",
    "* **adata(ad.AnnData):** an unfiltered adata collection\n",
    "* **param_dict (dict):** Dictionary that contains filtering and processing parameters. \n",
    "\n",
    "In the param_dict, the following keys must be present:\n",
    "* `cell_min_counts` (*int*):      Minimum total counts for a spot to be valid.\n",
    "* `cell_max_counts` (*int*):      Maximum total counts for a spot to be valid.\n",
    "* `gene_min_counts` (*int*):      Minimum total counts for a gene to be valid.\n",
    "* `gene_max_counts` (*int*):      Maximum total counts for a gene to be valid.\n",
    "* `min_exp_frac` (*float*):       Minimum fraction of spots in any slide that must express a gene for it to be valid.\n",
    "* `min_glob_exp_frac` (*float*):  Minimum fraction of spots in the whole collection that must express a gene for it to be valid.\n",
    "* `wildcard_genes` (*str*):       Path to a `.txt` file with the genes to keep or `None` to filter genes based on the other keys.\n",
    "\n",
    "The function returns a filtered adata collection. The function initially filters out observations with `total_counts` outside the range `[param_dict['cell_min_counts'], param_dict['cell_max_counts']]`. Then computes the `exp_frac` and `glob_exp_frac` for each gene. Filter out genes depending of the `param_dict['wildcard_genes']` value, where if the value is equal to `None` the filtered genes correspond to does that:\n",
    "* Are not expressed in at least `param_dict['min_exp_frac']` of spots in each slide.\n",
    "* Are not expressed in at least `param_dict['min_glob_exp_frac']` of spots in the whole collection.\n",
    "* Have counts outside the range `[param_dict['gene_min_counts'], param_dict['gene_max_counts']]`.\n",
    "\n",
    "Finally, the genes with zero counts are removed. \n"
   ]
  },
  {
   "cell_type": "code",
   "execution_count": null,
   "metadata": {},
   "outputs": [],
   "source": [
    "from spared.filtering import filter_dataset\n",
    "\n",
    "adata_filter = filter_dataset(adata, param_dict)"
   ]
  },
  {
   "cell_type": "markdown",
   "metadata": {},
   "source": [
    "`get_slide_from_collection` receives as input:\n",
    "\n",
    "* **collection (ad.Anndata):** adata object with all the slides concatenated\n",
    "* **slide (str):** name of the slide to get from the collection.\n",
    "\n",
    "And returns a filtered adata with only the specified slide."
   ]
  },
  {
   "cell_type": "code",
   "execution_count": null,
   "metadata": {},
   "outputs": [],
   "source": [
    "from spared.filtering import get_slide_from_collection\n",
    "\n",
    "slide_id = adata.obs.slide_id.unique()[0]\n",
    "slide_adata = get_slide_from_collection(collection = adata,  slide=slide_id)"
   ]
  },
  {
   "cell_type": "markdown",
   "metadata": {},
   "source": [
    "`get_slides_adata` receives as input:\n",
    "\n",
    "* **collection (ad.Anndata):** adata object with several slides concatenated\n",
    "* **slide_list (str):** a string with a list of slides separated by commas\n",
    "\n",
    "And returns a list of adatas one for every slide included in the `slide_list`. "
   ]
  },
  {
   "cell_type": "code",
   "execution_count": null,
   "metadata": {},
   "outputs": [],
   "source": [
    "from spared.filtering import get_slides_adata\n",
    "\n",
    "all_slides = \",\".join(adata.obs.slide_id.unique().to_list())\n",
    "slides_list = get_slides_adata(collection=adata, slide_list=all_slides)"
   ]
  }
 ],
 "metadata": {
  "kernelspec": {
   "display_name": "H2ST",
   "language": "python",
   "name": "python3"
  },
  "language_info": {
   "name": "python",
   "version": "3.8.undefined"
  }
 },
 "nbformat": 4,
 "nbformat_minor": 2
}
