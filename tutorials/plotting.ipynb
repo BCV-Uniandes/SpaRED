{
 "cells": [
  {
   "cell_type": "markdown",
   "metadata": {},
   "source": [
    "## SpaRED Library Plotting DEMO\n",
    "\n",
    "This demonstration illustrates how to use the plotting functions available in our SpaRED PyPI library. These functions provide powerful and flexible tools for visualizing various aspects of spatial transcriptomics data. With SpaRED's plotting capabilities, users can easily generate insightful visual representations of their data, aiding in both analysis and presentation. In this demo, we will cover the following topics:"
   ]
  },
  {
   "cell_type": "code",
   "execution_count": null,
   "metadata": {},
   "outputs": [],
   "source": [
    "import matplotlib.pyplot as plt\n",
    "import matplotlib.image as im\n",
    "import os\n",
    "import sys\n",
    "from pathlib import Path\n",
    "\n",
    "currentdir = os.getcwd()\n",
    "parentdir = str(Path(currentdir).parents[2])\n",
    "sys.path.insert(0, parentdir)\n",
    "\n",
    "import spared"
   ]
  },
  {
   "cell_type": "markdown",
   "metadata": {},
   "source": [
    "### Load Datasets\n",
    "The `datasets` file has a function to get any desired dataset and return the adata as well as the parameter dictionary. This function returns a filtered and processed adata. This function has a parameter called *visualize* that allows for all visualizations if set to True. The fuction also saves the raw_adata (not processed) in case it is required. \n",
    "\n",
    "We will begin by loading a dataset and setting the *visualize* parameter as False. This way we can look at each plotting function separetetly as evaluate the generated images. "
   ]
  },
  {
   "cell_type": "code",
   "execution_count": null,
   "metadata": {},
   "outputs": [],
   "source": [
    "from spared.datasets import get_dataset\n",
    "import anndata as ad\n",
    "\n",
    "#get_dataset(dataset, visualize)\n",
    "data = get_dataset(\"vicari_mouse_brain\", visualize=False)\n",
    "\n",
    "#adata\n",
    "adata = data.adata\n",
    "\n",
    "#parameters dictionary\n",
    "param_dict = data.param_dict\n",
    "\n",
    "#loading raw adata \n",
    "dataset_path = os.getcwd()\n",
    "files_path = os.path.join(dataset_path, \"processed_data/vicari_data/vicari_mouse_brain/\")\n",
    "files = os.listdir(files_path)\n",
    "adata_path = os.path.join(files_path, files[0], \"adata_raw.h5ad\")\n",
    "raw_adata = ad.read_h5ad(adata_path)"
   ]
  },
  {
   "cell_type": "markdown",
   "metadata": {},
   "source": [
    "### Plotting Functions\n",
    "\n",
    "We are ready to explore the plotting function one by one. This tutorial will demostrate how to use each function, what to introduce as input and the expected output. First we must define a path to where the plots will be saved.\n"
   ]
  },
  {
   "cell_type": "code",
   "execution_count": null,
   "metadata": {},
   "outputs": [],
   "source": [
    "inv_folder_path=\"/home/dvegaa/spared/docs/inv_plots/vicari_mouse_brain\"\n",
    "os.makedirs(inv_folder_path, exist_ok=True)"
   ]
  },
  {
   "cell_type": "markdown",
   "metadata": {},
   "source": [
    "`plot_data_distribution_stats` receives as input:\n",
    "\n",
    "* **dataset (str):** name of the dataset\n",
    "* **processed_adata (ad.AnnData):** processed adata \n",
    "* **path (str):** path to where image will be saved\n",
    "\n",
    "And plots a pie chart and bar plots of the distribution of spots and slides in the dataset split."
   ]
  },
  {
   "cell_type": "code",
   "execution_count": null,
   "metadata": {},
   "outputs": [],
   "source": [
    "from spared.plotting import plot_data_distribution_stats\n",
    "\n",
    "plot_data_distribution_stats(dataset=data.dataset, processed_adata=adata, path=os.path.join(inv_folder_path, 'splits_stats.png'))\n",
    "\n",
    "# Load the saved image\n",
    "image_path = os.path.join(inv_folder_path, 'splits_stats.png')\n",
    "img = im.imread(image_path)\n",
    "\n",
    "# Display the image\n",
    "plt.figure(figsize=(6, 6))\n",
    "plt.imshow(img)\n",
    "plt.axis('off')\n",
    "plt.show()"
   ]
  },
  {
   "cell_type": "markdown",
   "metadata": {},
   "source": [
    "Now lets begin with `plot_all_slides`. This function receives as input:\n",
    "* **dataset (str):** name of the dataset\n",
    "* **processed_adata (ad.AnnData):** processed adata\n",
    "* **path (str):** path to where image will be saved\n",
    "\n",
    "And plots all the whole slide images present in the dataset."
   ]
  },
  {
   "cell_type": "code",
   "execution_count": null,
   "metadata": {},
   "outputs": [],
   "source": [
    "from spared.plotting import plot_all_slides\n",
    "\n",
    "plot_all_slides(dataset=data.dataset, processed_adata=adata, path=os.path.join(inv_folder_path, 'all_slides.png'))\n",
    "\n",
    "# Load the saved image\n",
    "image_path = os.path.join(inv_folder_path, 'all_slides.png')\n",
    "img = im.imread(image_path)\n",
    "\n",
    "# Display the image\n",
    "plt.figure(figsize=(6, 6))\n",
    "plt.imshow(img)\n",
    "plt.axis('off')\n",
    "plt.show()\n"
   ]
  },
  {
   "cell_type": "markdown",
   "metadata": {},
   "source": [
    "`plot_exp_frac` receives as input:\n",
    "\n",
    "* **param:dict (dict):** dictionary of dataset parameters\n",
    "* **dataset (str):** name of the dataset\n",
    "* **raw_adata (ad.AnnData):** raw adata \n",
    "* **path (str):** path to where image will be saved\n",
    "\n",
    "And plots a heatmap of the expression fraction and global expression fraction for the complete collection of slides. "
   ]
  },
  {
   "cell_type": "code",
   "execution_count": null,
   "metadata": {},
   "outputs": [],
   "source": [
    "from spared.plotting import plot_exp_frac\n",
    "\n",
    "plot_exp_frac(param_dict=param_dict, dataset=data.dataset, raw_adata=raw_adata, path=os.path.join(inv_folder_path, 'exp_frac.png'))\n",
    "\n",
    "# Load the saved image\n",
    "image_path = os.path.join(inv_folder_path, 'exp_frac.png')\n",
    "img = im.imread(image_path)\n",
    "\n",
    "# Display the image\n",
    "plt.figure(figsize=(6, 6))\n",
    "plt.imshow(img)\n",
    "plt.axis('off')\n",
    "plt.show()"
   ]
  },
  {
   "cell_type": "markdown",
   "metadata": {},
   "source": [
    "`plot_histograms` receives as input:\n",
    "\n",
    "* **processed_adata (ad.AnnData):** raw adata \n",
    "* **raw_adata (ad.AnnData):** processed adata \n",
    "* **path (str):** path to where image will be saved\n",
    "\n",
    "And plots a figure that analyses the effect of the filtering over the data.The first row corresponds to the raw data and the second row plots the filtered and processed data. Histograms of total:   \n",
    "1. Counts per cell\n",
    "2. Cells with expression\n",
    "3. Total counts per gene\n",
    "4. Moran I statistics (only in processed data)\n",
    "\n",
    "are generated."
   ]
  },
  {
   "cell_type": "code",
   "execution_count": null,
   "metadata": {},
   "outputs": [],
   "source": [
    "from spared.plotting import plot_histograms\n",
    "\n",
    "plot_histograms(processed_adata=data.adata, raw_adata=raw_adata, path=os.path.join(inv_folder_path, 'filtering_histograms.png'))\n",
    "\n",
    "# Load the saved image\n",
    "image_path = os.path.join(inv_folder_path, 'filtering_histograms.png')\n",
    "img = im.imread(image_path)\n",
    "\n",
    "# Display the image\n",
    "plt.figure(figsize=(6, 6))\n",
    "plt.imshow(img)\n",
    "plt.axis('off')\n",
    "plt.show()"
   ]
  },
  {
   "cell_type": "markdown",
   "metadata": {},
   "source": [
    "`plot_random_patches` receives as input:\n",
    "\n",
    "* **dataset(str):** name of the dataset\n",
    "* **processed_adata (ad.AnnData):** processed adata \n",
    "* **path (str):** path to where image will be saved\n",
    "* **patch_size:** the size of the patches\n",
    "\n",
    "And plots 16 random patches."
   ]
  },
  {
   "cell_type": "code",
   "execution_count": null,
   "metadata": {},
   "outputs": [],
   "source": [
    "from spared.plotting import plot_random_patches\n",
    "\n",
    "plot_random_patches(dataset=data.dataset, processed_adata=adata, path=os.path.join(inv_folder_path, 'random_patches.png'), patch_size=data.patch_size)\n",
    "\n",
    "# Load the saved image\n",
    "image_path = os.path.join(inv_folder_path, 'random_patches.png')\n",
    "img = im.imread(image_path)\n",
    "\n",
    "# Display the image\n",
    "plt.figure(figsize=(6, 6))\n",
    "plt.imshow(img)\n",
    "plt.axis('off')\n",
    "plt.show()"
   ]
  },
  {
   "cell_type": "markdown",
   "metadata": {},
   "source": [
    "`visualize_moran_filtering` receives as input:\n",
    "\n",
    "* **param dict (dict):** dictionary of dataset parameters\n",
    "* **processed_adata (ad.AnnData):** processed adata \n",
    "* **from_layer (str):** The key in adata.layers used for plotting\n",
    "* **path (str):** path to where image will be saved\n",
    "* **split_names (dict):** dictionary containing split names\n",
    "* **top (bool):** if True the top most auto-correlated genes are visualized. If False the top least auto-correlated genes are visualized.\n",
    "\n",
    "And plots the most or least auto-correlated genes."
   ]
  },
  {
   "cell_type": "code",
   "execution_count": null,
   "metadata": {},
   "outputs": [],
   "source": [
    "# Creat folder for top and bottom moran genes\n",
    "os.makedirs(os.path.join(inv_folder_path, 'top_moran_genes'), exist_ok=True)\n",
    "os.makedirs(os.path.join(inv_folder_path, 'bottom_moran_genes'), exist_ok=True)\n",
    "# Define the layer\n",
    "layer = 'c_d_log1p'\n",
    "\n",
    "from spared.plotting import visualize_moran_filtering\n",
    "\n",
    "visualize_moran_filtering(param_dict=param_dict, processed_adata=adata, from_layer=layer, path=os.path.join(inv_folder_path, 'top_moran_genes', f'{layer}.png'), split_names=data.split_names, top = True)\n",
    "visualize_moran_filtering(param_dict=param_dict, processed_adata=adata, from_layer=layer, path = os.path.join(inv_folder_path, 'bottom_moran_genes', f'{layer}.png'), split_names=data.split_names, top = False)\n",
    "\n",
    "# Load the saved image\n",
    "image_path_top = os.path.join(inv_folder_path, 'top_moran_genes', f'{layer}.png')\n",
    "img_top = im.imread(image_path_top)\n",
    "\n",
    "image_path_bot = os.path.join(inv_folder_path, 'bottom_moran_genes', f'{layer}.png')\n",
    "img_bot = im.imread(image_path_bot)\n",
    "\n",
    "# Display the image\n",
    "fig, ax = plt.subplots(1, 2, figsize=(12, 6))\n",
    "\n",
    "ax[0].imshow(img_top)\n",
    "ax[0].axis('off')\n",
    "ax[0].set_title('Top Moran Genes')\n",
    "\n",
    "ax[1].imshow(img_bot)\n",
    "ax[1].axis('off')\n",
    "ax[1].set_title('Bottom Moran Genes')\n",
    "\n",
    "plt.tight_layout()\n",
    "plt.show()\n"
   ]
  },
  {
   "cell_type": "markdown",
   "metadata": {},
   "source": [
    "`visualize_gene_expression` receives as input:\n",
    "\n",
    "* **param dict (dict):** dictionary of dataset parameters\n",
    "* **processed_adata (ad.AnnData):** processed adata \n",
    "* **from_layer (str):** the key in adata.layers used for plotting (must be *raw* values)\n",
    "* **path (str):** path to where image will be saved\n",
    "* **split_names (dict):** dictionary containing split names\n",
    "\n",
    "And plots the gene expression of 4 specified genes in `param_dict['plotting_genes']`. If in `param_dict['plotting_genes'] = None`, 4 genes are randomly selected. "
   ]
  },
  {
   "cell_type": "code",
   "execution_count": null,
   "metadata": {},
   "outputs": [],
   "source": [
    "# creat folder for expression plots\n",
    "os.makedirs(os.path.join(inv_folder_path, 'expression_plots'), exist_ok=True)\n",
    "# Define the layer\n",
    "layer = 'counts'\n",
    "\n",
    "from spared.plotting import visualize_gene_expression\n",
    "\n",
    "visualize_gene_expression(param_dict=param_dict, processed_adata=adata, from_layer=layer, path=os.path.join(inv_folder_path,'expression_plots', f'{layer}.png'), split_names=data.split_names)\n",
    "\n",
    "# Load the saved image\n",
    "image_path = os.path.join(inv_folder_path,'expression_plots', f'{layer}.png')\n",
    "img = im.imread(image_path)\n",
    "\n",
    "# Display the image\n",
    "plt.figure(figsize=(6, 6))\n",
    "plt.imshow(img)\n",
    "plt.axis('off')\n",
    "plt.show()"
   ]
  },
  {
   "cell_type": "markdown",
   "metadata": {},
   "source": [
    "`plot_clusters` receives as input:\n",
    "\n",
    "* **dataset (str):** name of the dataset\n",
    "* **param dict (dict):** dictionary of dataset parameters\n",
    "* **processed_adata (ad.AnnData):** processed adata \n",
    "* **from_layer (str):** the key in adata.layers used for plotting \n",
    "* **path (str):** path to where image will be saved\n",
    "* **split_names (dict):** dictionary containing split names\n",
    "\n",
    "And generates a plot that visualizes the Leiden clusters spatially in the slides. More specifically, it plots:\n",
    "1. The spatial distribution of the Leiden clusters in the slides.\n",
    "2. UMAP embeddings of each slide colored by Leiden clusters.\n",
    "3. General UMAP embedding of the complete dataset colored by Leiden clusters and the batch correction key.\n",
    "4. PCA embeddings of the complete dataset colored by the batch correction key."
   ]
  },
  {
   "cell_type": "code",
   "execution_count": null,
   "metadata": {},
   "outputs": [],
   "source": [
    "# Create folder to save cluster plots\n",
    "os.makedirs(os.path.join(inv_folder_path, 'cluster_plots'), exist_ok=True)\n",
    "# Define layer\n",
    "layer = 'c_d_log1p'\n",
    "\n",
    "from spared.plotting import plot_clusters\n",
    "\n",
    "plot_clusters(dataset=data.dataset, param_dict=param_dict, processed_adata=adata, from_layer=layer, path=os.path.join(inv_folder_path, 'cluster_plots', f'{layer}.png'), split_names=data.split_names)\n",
    "\n",
    "# Load the saved image\n",
    "image_path = os.path.join(inv_folder_path, 'cluster_plots', f'{layer}.png')\n",
    "img = im.imread(image_path)\n",
    "\n",
    "# Display the image\n",
    "plt.figure(figsize=(6, 6))\n",
    "plt.imshow(img)\n",
    "plt.axis('off')\n",
    "plt.show()\n"
   ]
  },
  {
   "cell_type": "markdown",
   "metadata": {},
   "source": [
    "`plot_mean_std` receives as input:\n",
    "\n",
    "* **dataset (str):** name of the dataset\n",
    "* **processed_adata (ad.AnnData):** processed adata \n",
    "* **raw_adata (ad.AnnData):** raw adata\n",
    "* **path (str):** path to where image will be saved\n",
    "\n",
    "And plots a scatter of mean and standard deviation of genes present in raw_adata (black) and all the layers with non-zero mean in processed_adata. This function can be used to see the effect of filtering and processing in the genes."
   ]
  },
  {
   "cell_type": "code",
   "execution_count": null,
   "metadata": {},
   "outputs": [],
   "source": [
    "from spared.plotting import plot_mean_std\n",
    "\n",
    "plot_mean_std(dataset=data.dataset, processed_adata=adata, raw_adata=raw_adata, path=os.path.join(inv_folder_path, 'mean_std_scatter.png'))\n",
    "\n",
    "# Load the saved image\n",
    "image_path = os.path.join(inv_folder_path, 'mean_std_scatter.png')\n",
    "img = im.imread(image_path)\n",
    "\n",
    "# Display the image\n",
    "plt.figure(figsize=(6, 6))\n",
    "plt.imshow(img)\n",
    "plt.axis('off')\n",
    "plt.show()"
   ]
  },
  {
   "cell_type": "markdown",
   "metadata": {},
   "source": [
    "`plot_mean_std_partitions` receives as input:\n",
    "\n",
    "* **dataset (str):** name of the dataset\n",
    "* **processed_adata (ad.AnnData):** processed adata \n",
    "* **from_layer (str):** the key in adata.layers used for plotting\n",
    "* **path (str):** path to where image will be saved\n",
    "\n",
    "And plots a scatter of mean and standard deviation of genes present in processed_adata drawing with a different color different data splits. This function is used to see how tractable is the task."
   ]
  },
  {
   "cell_type": "code",
   "execution_count": null,
   "metadata": {},
   "outputs": [],
   "source": [
    "# Create folder to save mean and std partition plots\n",
    "os.makedirs(os.path.join(inv_folder_path, 'mean_vs_std_partitions'), exist_ok=True)\n",
    "# Define layer\n",
    "layer = 'c_d_log1p'\n",
    "\n",
    "from spared.plotting import plot_mean_std_partitions\n",
    "\n",
    "plot_mean_std_partitions(dataset=data.dataset, processed_adata=adata, from_layer=layer, path=os.path.join(inv_folder_path, 'mean_vs_std_partitions', f'{layer}.png'))\n",
    "\n",
    "# Load the saved image\n",
    "image_path = os.path.join(inv_folder_path, 'mean_vs_std_partitions', f'{layer}.png')\n",
    "img = im.imread(image_path)\n",
    "\n",
    "# Display the image\n",
    "plt.figure(figsize=(6, 6))\n",
    "plt.imshow(img)\n",
    "plt.axis('off')\n",
    "plt.show()"
   ]
  },
  {
   "cell_type": "markdown",
   "metadata": {},
   "source": [
    "`plot_tests` receives as input:\n",
    "\n",
    "* **patch_size (int):** size of the patches\n",
    "* **dataset (str):** name of the dataset\n",
    "* **split_names (dict):** dictionary containing split names\n",
    "* **param_dict (dict):** dictionary of dataset parameters\n",
    "* **folder_path (str):** path to the folder where all the images will be saved\n",
    "* **processed_adata (ad.AnnData):** processed adata \n",
    "* **raw_adata (ad.AnnData):** raw adata \n",
    "\n",
    "And calls all the plotting functions in the plotting library to create quality control plots."
   ]
  },
  {
   "cell_type": "code",
   "execution_count": null,
   "metadata": {},
   "outputs": [],
   "source": [
    "# Create folder to save all plots\n",
    "folder_path=\"/home/dvegaa/spared/docs/all_plots/vicari_mouse_brain\"\n",
    "os.makedirs(folder_path, exist_ok=True)\n",
    "\n",
    "from spared.plotting import plot_tests\n",
    "\n",
    "plot_tests(patch_size=data.patch_size, dataset=data.dataset, split_names=data.split_names, param_dict=param_dict, folder_path=folder_path, processed_adata=adata, raw_adata=raw_adata)\n"
   ]
  }
 ],
 "metadata": {
  "kernelspec": {
   "display_name": "H2ST",
   "language": "python",
   "name": "python3"
  },
  "language_info": {
   "codemirror_mode": {
    "name": "ipython",
    "version": 3
   },
   "file_extension": ".py",
   "mimetype": "text/x-python",
   "name": "python",
   "nbconvert_exporter": "python",
   "pygments_lexer": "ipython3",
   "version": "3.8.undefined"
  }
 },
 "nbformat": 4,
 "nbformat_minor": 2
}
